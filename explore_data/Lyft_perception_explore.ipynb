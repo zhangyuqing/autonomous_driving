{
 "cells": [
  {
   "cell_type": "code",
   "execution_count": 1,
   "metadata": {},
   "outputs": [],
   "source": [
    "import json"
   ]
  },
  {
   "cell_type": "code",
   "execution_count": 2,
   "metadata": {},
   "outputs": [],
   "source": [
    "data_dir = \"/Users/yuqingz/Downloads/lyft_one_scene/\""
   ]
  },
  {
   "cell_type": "markdown",
   "metadata": {},
   "source": [
    "# train data"
   ]
  },
  {
   "cell_type": "code",
   "execution_count": 27,
   "metadata": {},
   "outputs": [],
   "source": [
    "data = json.load(open(data_dir + \"train_data/sample_annotation.json\", \"rb\"))"
   ]
  },
  {
   "cell_type": "code",
   "execution_count": 28,
   "metadata": {},
   "outputs": [
    {
     "data": {
      "text/plain": [
       "{'token': 'c9a3c0f86426f5c21518c2ca116b83d5d1b81a4a1a8c54090c997b3ef52b8f4e',\n",
       " 'num_lidar_pts': -1,\n",
       " 'size': [2.097, 5.313, 1.527],\n",
       " 'sample_token': 'f1c84bc22ffa6157bfd83cb5c7a4a75d38fc3800d3e3bd5ae08daf93c966c33c',\n",
       " 'rotation': [0.13945786234471136, 0, 0, 0.9902280063855211],\n",
       " 'prev': '0b277b445065c113ec6240170f6f8bb77331eaf28e9f5b05526ec514b40a1488',\n",
       " 'translation': [1015.4281593633107, 1702.3128236982554, -23.64944355870142],\n",
       " 'num_radar_pts': 0,\n",
       " 'attribute_tokens': ['1ba8c9a8bda54423fa710b0af1441d849ecca8ed7b7f9393ba1794afe4aa6aa2',\n",
       "  'daf16a3f6499553cc5e1df4a456de5ee46e2e6b06544686d918dfb1ddb088f6f'],\n",
       " 'next': '97d99d9aeb70326c429b9dfd33694dfe597024d84520e67ac6fbb791c7f3b706',\n",
       " 'instance_token': 'f8de114c6d97fbc4cb38d6d61f4d85881bdc99e5f6be840a84e3cd5a7b46e67c',\n",
       " 'visibility_token': ''}"
      ]
     },
     "execution_count": 28,
     "metadata": {},
     "output_type": "execute_result"
    }
   ],
   "source": [
    "data[0]"
   ]
  },
  {
   "cell_type": "markdown",
   "metadata": {},
   "source": [
    "Explanation of label here: https://www.nuscenes.org/nuscenes#data-format \n",
    "\n",
    "3D bounding box\n",
    "+ location - translation\n",
    "+ size (width, length, height) - size\n",
    "+ orientation - rotation"
   ]
  },
  {
   "cell_type": "code",
   "execution_count": null,
   "metadata": {},
   "outputs": [],
   "source": []
  }
 ],
 "metadata": {
  "kernelspec": {
   "display_name": "Python 3",
   "language": "python",
   "name": "python3"
  },
  "language_info": {
   "codemirror_mode": {
    "name": "ipython",
    "version": 3
   },
   "file_extension": ".py",
   "mimetype": "text/x-python",
   "name": "python",
   "nbconvert_exporter": "python",
   "pygments_lexer": "ipython3",
   "version": "3.6.8"
  }
 },
 "nbformat": 4,
 "nbformat_minor": 2
}
