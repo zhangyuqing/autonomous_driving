{
 "cells": [
  {
   "cell_type": "code",
   "execution_count": 1,
   "metadata": {},
   "outputs": [],
   "source": [
    "import json\n",
    "import cv2"
   ]
  },
  {
   "cell_type": "code",
   "execution_count": 2,
   "metadata": {},
   "outputs": [],
   "source": [
    "anno = json.load(open('/home/yuqingz/autonomous_driving/exploration/img_ctnet/CenterNet/data/kitti/annotations/kitti_waymo_trainval.json', 'r'))"
   ]
  },
  {
   "cell_type": "code",
   "execution_count": 3,
   "metadata": {},
   "outputs": [
    {
     "data": {
      "text/plain": [
       "dict_keys(['images', 'annotations', 'categories'])"
      ]
     },
     "execution_count": 3,
     "metadata": {},
     "output_type": "execute_result"
    }
   ],
   "source": [
    "anno.keys()"
   ]
  },
  {
   "cell_type": "code",
   "execution_count": 4,
   "metadata": {},
   "outputs": [
    {
     "data": {
      "text/plain": [
       "[{'name': 'Pedestrian', 'id': 1},\n",
       " {'name': 'Car', 'id': 2},\n",
       " {'name': 'Cyclist', 'id': 3},\n",
       " {'name': 'Van', 'id': 4},\n",
       " {'name': 'Truck', 'id': 5},\n",
       " {'name': 'Person_sitting', 'id': 6},\n",
       " {'name': 'Tram', 'id': 7},\n",
       " {'name': 'Misc', 'id': 8},\n",
       " {'name': 'DontCare', 'id': 9}]"
      ]
     },
     "execution_count": 4,
     "metadata": {},
     "output_type": "execute_result"
    }
   ],
   "source": [
    "anno['categories']"
   ]
  },
  {
   "cell_type": "code",
   "execution_count": 5,
   "metadata": {},
   "outputs": [
    {
     "data": {
      "text/plain": [
       "{'image_id': '000',\n",
       " 'id': 1,\n",
       " 'category_id': 2,\n",
       " 'dim': [1.49, 1.84, 4.42],\n",
       " 'bbox': [674.191, 208.89600000000002, 98.66999999999996, 40.55699999999998],\n",
       " 'iscrowd': 0,\n",
       " 'area': 4001.7591899999966,\n",
       " 'depth': 20.51,\n",
       " 'alpha': -10.0,\n",
       " 'truncated': 0,\n",
       " 'occluded': 0,\n",
       " 'location': [-16.29, 1.89, 20.51],\n",
       " 'rotation_y': 1.52}"
      ]
     },
     "execution_count": 5,
     "metadata": {},
     "output_type": "execute_result"
    }
   ],
   "source": [
    "anno['annotations'][0]"
   ]
  },
  {
   "cell_type": "code",
   "execution_count": 6,
   "metadata": {},
   "outputs": [
    {
     "data": {
      "text/plain": [
       "{'file_name': '1_1000000.png', 'id': '1_1000000'}"
      ]
     },
     "execution_count": 6,
     "metadata": {},
     "output_type": "execute_result"
    }
   ],
   "source": [
    "anno['images'][0]"
   ]
  },
  {
   "cell_type": "code",
   "execution_count": 7,
   "metadata": {},
   "outputs": [],
   "source": [
    "image_dir = '/home/yuqingz/autonomous_driving/exploration/img_ctnet/CenterNet/data/kitti/images/trainval'\n",
    "\n",
    "label = anno['annotations'][0]\n",
    "img_name = \"{}/{}\".format(image_dir, anno['images'][0]['file_name'])\n",
    "# img_name = f\"{image_dir}/{anno['images'][0]['file_name']}\"\n",
    "img = cv2.imread(img_name)\n",
    "img = img[:, :, ::-1]"
   ]
  },
  {
   "cell_type": "code",
   "execution_count": null,
   "metadata": {},
   "outputs": [],
   "source": [
    "im"
   ]
  }
 ],
 "metadata": {
  "kernelspec": {
   "display_name": "CenterNet",
   "language": "python",
   "name": "centernet"
  },
  "language_info": {
   "codemirror_mode": {
    "name": "ipython",
    "version": 3
   },
   "file_extension": ".py",
   "mimetype": "text/x-python",
   "name": "python",
   "nbconvert_exporter": "python",
   "pygments_lexer": "ipython3",
   "version": "3.6.12"
  }
 },
 "nbformat": 4,
 "nbformat_minor": 2
}
